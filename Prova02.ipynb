{
 "cells": [
  {
   "cell_type": "code",
   "execution_count": 1,
   "id": "7589eb17-fac7-4f12-9fc1-27be84cf7062",
   "metadata": {},
   "outputs": [
    {
     "name": "stdout",
     "output_type": "stream",
     "text": [
      "Lista Original: [29, 10, 14, 37, 13]\n",
      "Lista Ordenada: [10, 13, 14, 29, 37]\n"
     ]
    }
   ],
   "source": [
    "def selection_sort(arr):\n",
    "\n",
    "    for i in range(len(arr)):\n",
    "        min_idx = i\n",
    "        for j in range(i + 1, len(arr)):\n",
    "          if arr[j] < arr[min_idx]:\n",
    "            min_idx= j\n",
    "        arr [i], arr[min_idx] = arr[min_idx], arr[i]\n",
    "    return arr\n",
    "\n",
    "# Lista de Exemplo\n",
    "lista =[29,10,14,37,13]\n",
    "print(\"Lista Original:\", lista)\n",
    "print(\"Lista Ordenada:\", selection_sort(lista))\n",
    "\n"
   ]
  },
  {
   "cell_type": "code",
   "execution_count": 8,
   "id": "096a1f7f-798a-4377-a736-ce67cc25cb07",
   "metadata": {},
   "outputs": [
    {
     "name": "stdout",
     "output_type": "stream",
     "text": [
      "Lista Original: [29, 10, 14, 37, 13, 345, 23, 123, 453, 456, 34, 6, 43, 56, 45]\n",
      "Maior elemento: 456\n"
     ]
    }
   ],
   "source": [
    "def find_max(arr):\n",
    "    lista_ord = selection_sort(arr)\n",
    "    max = lista_ord[len(lista_ord)-1]\n",
    "    return max\n",
    "\n",
    "# Lista de Exemplo\n",
    "lista =[29,10,14,37,13,345,23,123,453,456,34,6,43,56,45,]\n",
    "print(\"Lista Original:\", lista)\n",
    "print(\"Maior elemento:\", find_max(lista))\n"
   ]
  },
  {
   "cell_type": "code",
   "execution_count": null,
   "id": "5c2a79a1-f9a9-4526-b9c3-ee6804c8e6c0",
   "metadata": {},
   "outputs": [],
   "source": []
  },
  {
   "cell_type": "code",
   "execution_count": null,
   "id": "fbd72e73-64d9-4fed-ae2c-2f5c4bbdadb2",
   "metadata": {},
   "outputs": [],
   "source": []
  }
 ],
 "metadata": {
  "kernelspec": {
   "display_name": "Python 3 (ipykernel)",
   "language": "python",
   "name": "python3"
  },
  "language_info": {
   "codemirror_mode": {
    "name": "ipython",
    "version": 3
   },
   "file_extension": ".py",
   "mimetype": "text/x-python",
   "name": "python",
   "nbconvert_exporter": "python",
   "pygments_lexer": "ipython3",
   "version": "3.12.4"
  }
 },
 "nbformat": 4,
 "nbformat_minor": 5
}
